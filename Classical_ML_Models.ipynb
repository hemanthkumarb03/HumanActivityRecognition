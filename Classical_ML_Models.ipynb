{
 "cells": [
  {
   "cell_type": "code",
   "execution_count": 2,
   "id": "03da5ba5",
   "metadata": {},
   "outputs": [],
   "source": [
    "import numpy as np\n",
    "import pandas as pd"
   ]
  },
  {
   "cell_type": "code",
   "execution_count": 3,
   "id": "dfbf2c87",
   "metadata": {},
   "outputs": [],
   "source": [
    "train = pd.read_csv(r\"D:\\AI_ML_DL\\ML\\Machine Learning\\Case studies\\HumanActivityRecognition\\HumanActivityRecognition\\Data\\csv_files\\train.csv\")\n",
    "\n",
    "test = pd.read_csv(r\"D:\\AI_ML_DL\\ML\\Machine Learning\\Case studies\\HumanActivityRecognition\\HumanActivityRecognition\\Data\\csv_files\\test.csv\")"
   ]
  },
  {
   "cell_type": "code",
   "execution_count": 4,
   "id": "0dd69f5a",
   "metadata": {},
   "outputs": [
    {
     "name": "stdout",
     "output_type": "stream",
     "text": [
      "(7352, 564) (2947, 564)\n"
     ]
    }
   ],
   "source": [
    "print(train.shape, test.shape)"
   ]
  },
  {
   "cell_type": "code",
   "execution_count": 4,
   "id": "61cb2382",
   "metadata": {},
   "outputs": [
    {
     "data": {
      "text/html": [
       "<div>\n",
       "<style scoped>\n",
       "    .dataframe tbody tr th:only-of-type {\n",
       "        vertical-align: middle;\n",
       "    }\n",
       "\n",
       "    .dataframe tbody tr th {\n",
       "        vertical-align: top;\n",
       "    }\n",
       "\n",
       "    .dataframe thead th {\n",
       "        text-align: right;\n",
       "    }\n",
       "</style>\n",
       "<table border=\"1\" class=\"dataframe\">\n",
       "  <thead>\n",
       "    <tr style=\"text-align: right;\">\n",
       "      <th></th>\n",
       "      <th>tBodyAccmeanX</th>\n",
       "      <th>tBodyAccmeanY</th>\n",
       "      <th>tBodyAccmeanZ</th>\n",
       "      <th>tBodyAccstdX</th>\n",
       "      <th>tBodyAccstdY</th>\n",
       "      <th>tBodyAccstdZ</th>\n",
       "      <th>tBodyAccmadX</th>\n",
       "      <th>tBodyAccmadY</th>\n",
       "      <th>tBodyAccmadZ</th>\n",
       "      <th>tBodyAccmaxX</th>\n",
       "      <th>...</th>\n",
       "      <th>angletBodyAccMeangravity</th>\n",
       "      <th>angletBodyAccJerkMeangravityMean</th>\n",
       "      <th>angletBodyGyroMeangravityMean</th>\n",
       "      <th>angletBodyGyroJerkMeangravityMean</th>\n",
       "      <th>angleXgravityMean</th>\n",
       "      <th>angleYgravityMean</th>\n",
       "      <th>angleZgravityMean</th>\n",
       "      <th>subject</th>\n",
       "      <th>Activity</th>\n",
       "      <th>ActivityName</th>\n",
       "    </tr>\n",
       "  </thead>\n",
       "  <tbody>\n",
       "    <tr>\n",
       "      <th>0</th>\n",
       "      <td>0.288585</td>\n",
       "      <td>-0.020294</td>\n",
       "      <td>-0.132905</td>\n",
       "      <td>-0.995279</td>\n",
       "      <td>-0.983111</td>\n",
       "      <td>-0.913526</td>\n",
       "      <td>-0.995112</td>\n",
       "      <td>-0.983185</td>\n",
       "      <td>-0.923527</td>\n",
       "      <td>-0.934724</td>\n",
       "      <td>...</td>\n",
       "      <td>-0.112754</td>\n",
       "      <td>0.030400</td>\n",
       "      <td>-0.464761</td>\n",
       "      <td>-0.018446</td>\n",
       "      <td>-0.841247</td>\n",
       "      <td>0.179941</td>\n",
       "      <td>-0.058627</td>\n",
       "      <td>1</td>\n",
       "      <td>5</td>\n",
       "      <td>STANDING</td>\n",
       "    </tr>\n",
       "    <tr>\n",
       "      <th>1</th>\n",
       "      <td>0.278419</td>\n",
       "      <td>-0.016411</td>\n",
       "      <td>-0.123520</td>\n",
       "      <td>-0.998245</td>\n",
       "      <td>-0.975300</td>\n",
       "      <td>-0.960322</td>\n",
       "      <td>-0.998807</td>\n",
       "      <td>-0.974914</td>\n",
       "      <td>-0.957686</td>\n",
       "      <td>-0.943068</td>\n",
       "      <td>...</td>\n",
       "      <td>0.053477</td>\n",
       "      <td>-0.007435</td>\n",
       "      <td>-0.732626</td>\n",
       "      <td>0.703511</td>\n",
       "      <td>-0.844788</td>\n",
       "      <td>0.180289</td>\n",
       "      <td>-0.054317</td>\n",
       "      <td>1</td>\n",
       "      <td>5</td>\n",
       "      <td>STANDING</td>\n",
       "    </tr>\n",
       "  </tbody>\n",
       "</table>\n",
       "<p>2 rows × 564 columns</p>\n",
       "</div>"
      ],
      "text/plain": [
       "   tBodyAccmeanX  tBodyAccmeanY  tBodyAccmeanZ  tBodyAccstdX  tBodyAccstdY  \\\n",
       "0       0.288585      -0.020294      -0.132905     -0.995279     -0.983111   \n",
       "1       0.278419      -0.016411      -0.123520     -0.998245     -0.975300   \n",
       "\n",
       "   tBodyAccstdZ  tBodyAccmadX  tBodyAccmadY  tBodyAccmadZ  tBodyAccmaxX  ...  \\\n",
       "0     -0.913526     -0.995112     -0.983185     -0.923527     -0.934724  ...   \n",
       "1     -0.960322     -0.998807     -0.974914     -0.957686     -0.943068  ...   \n",
       "\n",
       "   angletBodyAccMeangravity  angletBodyAccJerkMeangravityMean  \\\n",
       "0                 -0.112754                          0.030400   \n",
       "1                  0.053477                         -0.007435   \n",
       "\n",
       "   angletBodyGyroMeangravityMean  angletBodyGyroJerkMeangravityMean  \\\n",
       "0                      -0.464761                          -0.018446   \n",
       "1                      -0.732626                           0.703511   \n",
       "\n",
       "   angleXgravityMean  angleYgravityMean  angleZgravityMean  subject  Activity  \\\n",
       "0          -0.841247           0.179941          -0.058627        1         5   \n",
       "1          -0.844788           0.180289          -0.054317        1         5   \n",
       "\n",
       "   ActivityName  \n",
       "0      STANDING  \n",
       "1      STANDING  \n",
       "\n",
       "[2 rows x 564 columns]"
      ]
     },
     "execution_count": 4,
     "metadata": {},
     "output_type": "execute_result"
    }
   ],
   "source": [
    "train.head(2)"
   ]
  },
  {
   "cell_type": "code",
   "execution_count": 6,
   "id": "829a7144",
   "metadata": {},
   "outputs": [],
   "source": [
    "x_train =  train.drop(['subject','Activity','ActivityName'],axis=1)\n",
    "y_train = train.Activity"
   ]
  },
  {
   "cell_type": "code",
   "execution_count": 7,
   "id": "5f0b5c24",
   "metadata": {},
   "outputs": [],
   "source": [
    "x_test =  test.drop(['subject','Activity','ActivityName'],axis=1)\n",
    "y_test = test.Activity"
   ]
  },
  {
   "cell_type": "code",
   "execution_count": null,
   "id": "db595c90",
   "metadata": {},
   "outputs": [],
   "source": []
  },
  {
   "cell_type": "markdown",
   "id": "49c171f5",
   "metadata": {},
   "source": [
    "#### Logistic Regression\n"
   ]
  },
  {
   "cell_type": "code",
   "execution_count": 7,
   "id": "0256121c",
   "metadata": {},
   "outputs": [],
   "source": [
    "from sklearn import linear_model\n",
    "from sklearn import metrics\n",
    "from sklearn.model_selection import GridSearchCV"
   ]
  },
  {
   "cell_type": "code",
   "execution_count": 10,
   "id": "c7287af1",
   "metadata": {},
   "outputs": [],
   "source": [
    "params = {'C':[0.001,0.01,0.1,1,10,100],'penalty':['l1','l2']}\n",
    "log_reg = linear_model.LogisticRegression()\n",
    "log_reg_grid = GridSearchCV(log_reg, param_grid=params,cv=3, verbose=1, n_jobs=-1)"
   ]
  },
  {
   "cell_type": "code",
   "execution_count": 15,
   "id": "dbfa3952",
   "metadata": {},
   "outputs": [
    {
     "name": "stdout",
     "output_type": "stream",
     "text": [
      "Fitting 3 folds for each of 12 candidates, totalling 36 fits\n"
     ]
    },
    {
     "name": "stderr",
     "output_type": "stream",
     "text": [
      "C:\\Users\\91709\\anaconda3\\lib\\site-packages\\sklearn\\model_selection\\_search.py:918: UserWarning: One or more of the test scores are non-finite: [       nan 0.8771775         nan 0.91458247        nan 0.93416876\n",
      "        nan 0.93729756        nan 0.93471225        nan 0.92940874]\n",
      "  warnings.warn(\n"
     ]
    },
    {
     "name": "stdout",
     "output_type": "stream",
     "text": [
      "\n",
      " cm is [[492   1   3   0   0   0]\n",
      " [ 24 445   2   0   0   0]\n",
      " [  4  13 403   0   0   0]\n",
      " [  0   3   0 431  57   0]\n",
      " [  0   0   0  16 516   0]\n",
      " [  0   0   0   0   0 537]]\n",
      "\n",
      " results are {'accuracy': 0.9582626399728538, 'confusion_matix': array([[492,   1,   3,   0,   0,   0],\n",
      "       [ 24, 445,   2,   0,   0,   0],\n",
      "       [  4,  13, 403,   0,   0,   0],\n",
      "       [  0,   3,   0, 431,  57,   0],\n",
      "       [  0,   0,   0,  16, 516,   0],\n",
      "       [  0,   0,   0,   0,   0, 537]], dtype=int64), 'classification_report': '              precision    recall  f1-score   support\\n\\n           1       0.95      0.99      0.97       496\\n           2       0.96      0.94      0.95       471\\n           3       0.99      0.96      0.97       420\\n           4       0.96      0.88      0.92       491\\n           5       0.90      0.97      0.93       532\\n           6       1.00      1.00      1.00       537\\n\\n    accuracy                           0.96      2947\\n   macro avg       0.96      0.96      0.96      2947\\nweighted avg       0.96      0.96      0.96      2947\\n', 'model': GridSearchCV(cv=3, estimator=LogisticRegression(), n_jobs=-1,\n",
      "             param_grid={'C': [0.001, 0.01, 0.1, 1, 10, 100],\n",
      "                         'penalty': ['l1', 'l2']},\n",
      "             verbose=1)}\n"
     ]
    },
    {
     "name": "stderr",
     "output_type": "stream",
     "text": [
      "C:\\Users\\91709\\anaconda3\\lib\\site-packages\\sklearn\\linear_model\\_logistic.py:763: ConvergenceWarning: lbfgs failed to converge (status=1):\n",
      "STOP: TOTAL NO. of ITERATIONS REACHED LIMIT.\n",
      "\n",
      "Increase the number of iterations (max_iter) or scale the data as shown in:\n",
      "    https://scikit-learn.org/stable/modules/preprocessing.html\n",
      "Please also refer to the documentation for alternative solver options:\n",
      "    https://scikit-learn.org/stable/modules/linear_model.html#logistic-regression\n",
      "  n_iter_i = _check_optimize_result(\n"
     ]
    }
   ],
   "source": [
    "results =dict()\n",
    "log_reg_grid.fit(x_train,y_train)\n",
    "y_pred = log_reg_grid.predict(x_test)\n",
    "\n",
    "acc= metrics.accuracy_score(y_test,y_pred)\n",
    "cm = metrics.confusion_matrix(y_test,y_pred)\n",
    "results['accuracy'] = acc\n",
    "results['confusion_matix']=cm\n",
    "classification_report =  metrics.classification_report(y_test,y_pred)\n",
    "results['classification_report']=classification_report\n",
    "results['model']=log_reg_grid\n",
    "print(f\"\\n cm is {cm}\")\n",
    "print(f\"\\n results are {results}\")\n",
    "\n"
   ]
  },
  {
   "cell_type": "code",
   "execution_count": 17,
   "id": "102447dc",
   "metadata": {},
   "outputs": [
    {
     "name": "stdout",
     "output_type": "stream",
     "text": [
      "\n",
      " results are \n",
      "               precision    recall  f1-score   support\n",
      "\n",
      "           1       0.95      0.99      0.97       496\n",
      "           2       0.96      0.94      0.95       471\n",
      "           3       0.99      0.96      0.97       420\n",
      "           4       0.96      0.88      0.92       491\n",
      "           5       0.90      0.97      0.93       532\n",
      "           6       1.00      1.00      1.00       537\n",
      "\n",
      "    accuracy                           0.96      2947\n",
      "   macro avg       0.96      0.96      0.96      2947\n",
      "weighted avg       0.96      0.96      0.96      2947\n",
      "\n"
     ]
    }
   ],
   "source": [
    "print(f\"\\n results are \\n {classification_report}\")"
   ]
  },
  {
   "cell_type": "code",
   "execution_count": 46,
   "id": "0847da30",
   "metadata": {},
   "outputs": [
    {
     "name": "stdout",
     "output_type": "stream",
     "text": [
      "accuracy is 0.9582626399728538\n"
     ]
    }
   ],
   "source": [
    "print(f\"accuracy is {results['accuracy']}\")"
   ]
  },
  {
   "cell_type": "code",
   "execution_count": 42,
   "id": "bff831fe",
   "metadata": {},
   "outputs": [],
   "source": [
    "def plot_confusion_matrix(cm, classes,\n",
    "                          normalize=False,\n",
    "                          title='Confusion matrix',\n",
    "                          cmap=plt.cm.Greens):\n",
    "    if normalize:\n",
    "        cm = cm.astype('float') / cm.sum(axis=1)[:, np.newaxis]\n",
    "    plt.figure(figsize=(7,7))\n",
    "    plt.imshow(cm, interpolation='nearest', cmap=cmap)\n",
    "    plt.title(title)\n",
    "    plt.colorbar()\n",
    "    tick_marks = np.arange(len(classes))\n",
    "    plt.xticks(tick_marks, classes, rotation=90)\n",
    "    plt.yticks(tick_marks, classes)\n",
    "\n",
    "    fmt = '.2f' if normalize else 'd'\n",
    "    thresh = cm.max() / 2.\n",
    "    for i, j in itertools.product(range(cm.shape[0]), range(cm.shape[1])):\n",
    "        plt.text(j, i, format(cm[i, j], fmt),\n",
    "                 horizontalalignment=\"center\",\n",
    "                 color=\"white\" if cm[i, j] > thresh else \"black\")\n",
    "\n",
    "    plt.tight_layout()\n",
    "    plt.ylabel('True label')\n",
    "    plt.xlabel('Predicted label')"
   ]
  },
  {
   "cell_type": "code",
   "execution_count": 43,
   "id": "8b6ebd2f",
   "metadata": {},
   "outputs": [
    {
     "data": {
      "image/png": "[encoded data removed]",
      "text/plain": [
       "<Figure size 504x504 with 2 Axes>"
      ]
     },
     "metadata": {
      "needs_background": "light"
     },
     "output_type": "display_data"
    }
   ],
   "source": [
    "labels=['LAYING', 'SITTING','STANDING','WALKING','WALKING_DOWNSTAIRS','WALKING_UPSTAIRS']\n",
    "plot_confusion_matrix(cm,labels)"
   ]
  },
  {
   "cell_type": "markdown",
   "id": "220faaf2",
   "metadata": {},
   "source": [
    "Linear SVC"
   ]
  },
  {
   "cell_type": "code",
   "execution_count": 51,
   "id": "e6a70ecb",
   "metadata": {},
   "outputs": [],
   "source": [
    "from sklearn.svm import LinearSVC\n",
    "\n",
    "params = {'C':[0.125,0.5,1,2,8,16]}\n",
    "linear_svc = LinearSVC(tol=0.0005)\n",
    "lin_svc_grid = GridSearchCV(linear_svc,params,n_jobs=-1,verbose=1)"
   ]
  },
  {
   "cell_type": "code",
   "execution_count": 52,
   "id": "48bfbe98",
   "metadata": {},
   "outputs": [
    {
     "name": "stdout",
     "output_type": "stream",
     "text": [
      "Fitting 5 folds for each of 6 candidates, totalling 30 fits\n"
     ]
    },
    {
     "name": "stderr",
     "output_type": "stream",
     "text": [
      "C:\\Users\\91709\\anaconda3\\lib\\site-packages\\sklearn\\svm\\_base.py:985: ConvergenceWarning: Liblinear failed to converge, increase the number of iterations.\n",
      "  warnings.warn(\"Liblinear failed to converge, increase \"\n"
     ]
    }
   ],
   "source": [
    "lin_svc_grid.fit(x_train,y_train)\n",
    "y_pred = lin_svc_grid.predict(x_test)"
   ]
  },
  {
   "cell_type": "code",
   "execution_count": 53,
   "id": "2e6fcf24",
   "metadata": {},
   "outputs": [
    {
     "data": {
      "text/plain": [
       "0.9674244994910078"
      ]
     },
     "execution_count": 53,
     "metadata": {},
     "output_type": "execute_result"
    }
   ],
   "source": [
    "accuracy = metrics.accuracy_score(y_test,y_pred)\n",
    "accuracy"
   ]
  },
  {
   "cell_type": "code",
   "execution_count": 59,
   "id": "13fa5dca",
   "metadata": {},
   "outputs": [
    {
     "name": "stdout",
     "output_type": "stream",
     "text": [
      "              precision    recall  f1-score   support\n",
      "\n",
      "           1       0.96      1.00      0.98       496\n",
      "           2       0.98      0.96      0.97       471\n",
      "           3       1.00      0.98      0.99       420\n",
      "           4       0.97      0.88      0.93       491\n",
      "           5       0.91      0.98      0.94       532\n",
      "           6       1.00      1.00      1.00       537\n",
      "\n",
      "    accuracy                           0.97      2947\n",
      "   macro avg       0.97      0.97      0.97      2947\n",
      "weighted avg       0.97      0.97      0.97      2947\n",
      "\n"
     ]
    }
   ],
   "source": [
    "a=metrics.classification_report(y_test,y_pred)\n",
    "print(a)"
   ]
  },
  {
   "cell_type": "code",
   "execution_count": 62,
   "id": "7932b7b3",
   "metadata": {},
   "outputs": [
    {
     "data": {
      "text/plain": [
       "array([[496,   0,   0,   0,   0,   0],\n",
       "       [ 17, 454,   0,   0,   0,   0],\n",
       "       [  3,   5, 412,   0,   0,   0],\n",
       "       [  0,   3,   0, 433,  53,   2],\n",
       "       [  1,   0,   0,  12, 519,   0],\n",
       "       [  0,   0,   0,   0,   0, 537]], dtype=int64)"
      ]
     },
     "execution_count": 62,
     "metadata": {},
     "output_type": "execute_result"
    }
   ],
   "source": [
    "cm=metrics.confusion_matrix(y_test,y_pred)\n",
    "cm"
   ]
  },
  {
   "cell_type": "code",
   "execution_count": 64,
   "id": "4a7caab2",
   "metadata": {},
   "outputs": [
    {
     "data": {
      "image/png": "[encoded data removed]",
      "text/plain": [
       "<Figure size 504x504 with 2 Axes>"
      ]
     },
     "metadata": {
      "needs_background": "light"
     },
     "output_type": "display_data"
    }
   ],
   "source": [
    "plot_confusion_matrix(cm,labels)"
   ]
  },
  {
   "cell_type": "markdown",
   "id": "0e52403f",
   "metadata": {},
   "source": [
    "## Kernel SVM with Grid Search"
   ]
  },
  {
   "cell_type": "code",
   "execution_count": 65,
   "id": "934ec3c7",
   "metadata": {},
   "outputs": [],
   "source": [
    "from sklearn.svm import SVC\n",
    "params = {'C':[2,4,8,16],'gamma':[0.0025,0.6,1,2]}\n",
    "rbf_kernel = SVC(kernel='rbf')\n",
    "rbf_kernel_grid = GridSearchCV(rbf_kernel,params,n_jobs=-1, verbose=1)\n"
   ]
  },
  {
   "cell_type": "code",
   "execution_count": 66,
   "id": "7d287efc",
   "metadata": {},
   "outputs": [
    {
     "name": "stdout",
     "output_type": "stream",
     "text": [
      "Fitting 5 folds for each of 16 candidates, totalling 80 fits\n"
     ]
    },
    {
     "data": {
      "text/plain": [
       "GridSearchCV(estimator=SVC(), n_jobs=-1,\n",
       "             param_grid={'C': [2, 4, 8, 16], 'gamma': [0.0025, 0.6, 1, 2]},\n",
       "             verbose=1)"
      ]
     },
     "execution_count": 66,
     "metadata": {},
     "output_type": "execute_result"
    }
   ],
   "source": [
    "rbf_kernel_grid.fit(x_train,y_train)"
   ]
  },
  {
   "cell_type": "code",
   "execution_count": 69,
   "id": "04bdaf08",
   "metadata": {},
   "outputs": [
    {
     "data": {
      "text/plain": [
       "0.9555480149304377"
      ]
     },
     "execution_count": 69,
     "metadata": {},
     "output_type": "execute_result"
    }
   ],
   "source": [
    "y_pred = rbf_kernel_grid.predict(x_test)\n",
    "metrics.accuracy_score(y_test,y_pred)"
   ]
  },
  {
   "cell_type": "code",
   "execution_count": 70,
   "id": "08ba80b9",
   "metadata": {},
   "outputs": [
    {
     "data": {
      "image/png": "[encoded data removed]",
      "text/plain": [
       "<Figure size 504x504 with 2 Axes>"
      ]
     },
     "metadata": {
      "needs_background": "light"
     },
     "output_type": "display_data"
    }
   ],
   "source": [
    "cm=metrics.confusion_matrix(y_test,y_pred)\n",
    "plot_confusion_matrix(cm,labels)"
   ]
  },
  {
   "cell_type": "code",
   "execution_count": 72,
   "id": "ee8076d6",
   "metadata": {},
   "outputs": [
    {
     "name": "stdout",
     "output_type": "stream",
     "text": [
      "              precision    recall  f1-score   support\n",
      "\n",
      "           1       0.95      0.98      0.97       496\n",
      "           2       0.94      0.96      0.95       471\n",
      "           3       0.99      0.94      0.96       420\n",
      "           4       0.95      0.89      0.92       491\n",
      "           5       0.91      0.95      0.93       532\n",
      "           6       1.00      1.00      1.00       537\n",
      "\n",
      "    accuracy                           0.96      2947\n",
      "   macro avg       0.96      0.95      0.96      2947\n",
      "weighted avg       0.96      0.96      0.96      2947\n",
      "\n"
     ]
    }
   ],
   "source": [
    "print(metrics.classification_report(y_test,y_pred))"
   ]
  },
  {
   "cell_type": "code",
   "execution_count": 73,
   "id": "7d4d60e3",
   "metadata": {},
   "outputs": [
    {
     "data": {
      "text/plain": [
       "{'C': 8, 'gamma': 0.0025}"
      ]
     },
     "execution_count": 73,
     "metadata": {},
     "output_type": "execute_result"
    }
   ],
   "source": [
    "rbf_kernel_grid.best_params_"
   ]
  },
  {
   "cell_type": "markdown",
   "id": "65002e6d",
   "metadata": {},
   "source": [
    "## Decision Trees with Grid Search"
   ]
  },
  {
   "cell_type": "code",
   "execution_count": 76,
   "id": "5dbe885f",
   "metadata": {},
   "outputs": [
    {
     "name": "stdout",
     "output_type": "stream",
     "text": [
      "Fitting 5 folds for each of 4 candidates, totalling 20 fits\n",
      "accuracy for  DT classifier is  0.8615541228367831\n",
      "classification report for  DT classifier is \n",
      "               precision    recall  f1-score   support\n",
      "\n",
      "           1       0.95      0.83      0.89       563\n",
      "           2       0.78      0.84      0.81       438\n",
      "           3       0.81      0.88      0.84       386\n",
      "           4       0.78      0.81      0.79       478\n",
      "           5       0.83      0.81      0.82       545\n",
      "           6       1.00      1.00      1.00       537\n",
      "\n",
      "    accuracy                           0.86      2947\n",
      "   macro avg       0.86      0.86      0.86      2947\n",
      "weighted avg       0.87      0.86      0.86      2947\n",
      "\n"
     ]
    },
    {
     "data": {
      "text/plain": [
       "{'max_depth': 7}"
      ]
     },
     "execution_count": 76,
     "metadata": {},
     "output_type": "execute_result"
    },
    {
     "data": {
      "image/png": "[encoded data removed]",
      "text/plain": [
       "<Figure size 504x504 with 2 Axes>"
      ]
     },
     "metadata": {
      "needs_background": "light"
     },
     "output_type": "display_data"
    }
   ],
   "source": [
    "from sklearn.tree import DecisionTreeClassifier\n",
    "params = {'max_depth':np.arange(3,10,2)}\n",
    "\n",
    "dt = DecisionTreeClassifier()\n",
    "dt_grid = GridSearchCV(dt,params,n_jobs=-1,verbose=1)\n",
    "dt_grid.fit(x_train,y_train)\n",
    "y_pred = dt_grid.predict(x_test)\n",
    "print(f\"accuracy for  DT classifier is  {metrics.accuracy_score(y_pred,y_test)}\")\n",
    "cm= metrics.confusion_matrix(y_test,y_pred)\n",
    "print(f\"classification report for  DT classifier is \\n {metrics.classification_report(y_pred,y_test)}\")\n",
    "plot_confusion_matrix(cm,labels)\n",
    "dt_grid.best_params_"
   ]
  },
  {
   "cell_type": "markdown",
   "id": "704334aa",
   "metadata": {},
   "source": [
    "## Random forest Classifier with Grid Search"
   ]
  },
  {
   "cell_type": "code",
   "execution_count": 78,
   "id": "8355ce6d",
   "metadata": {
    "collapsed": true
   },
   "outputs": [
    {
     "name": "stdout",
     "output_type": "stream",
     "text": [
      "Fitting 5 folds for each of 40 candidates, totalling 200 fits\n"
     ]
    },
    {
     "ename": "NameError",
     "evalue": "name 'x_text' is not defined",
     "output_type": "error",
     "traceback": [
      "\u001b[1;31m---------------------------------------------------------------------------\u001b[0m",
      "\u001b[1;31mNameError\u001b[0m                                 Traceback (most recent call last)",
      "\u001b[1;32m<ipython-input-78-b91eb519cf61>\u001b[0m in \u001b[0;36m<module>\u001b[1;34m\u001b[0m\n\u001b[0;32m      4\u001b[0m \u001b[0mrfc_grid\u001b[0m\u001b[1;33m=\u001b[0m\u001b[0mGridSearchCV\u001b[0m\u001b[1;33m(\u001b[0m\u001b[0mrfc\u001b[0m\u001b[1;33m,\u001b[0m\u001b[0mparams\u001b[0m\u001b[1;33m,\u001b[0m\u001b[0mn_jobs\u001b[0m\u001b[1;33m=\u001b[0m\u001b[1;33m-\u001b[0m\u001b[1;36m1\u001b[0m\u001b[1;33m,\u001b[0m \u001b[0mverbose\u001b[0m\u001b[1;33m=\u001b[0m\u001b[1;36m1\u001b[0m\u001b[1;33m)\u001b[0m\u001b[1;33m\u001b[0m\u001b[1;33m\u001b[0m\u001b[0m\n\u001b[0;32m      5\u001b[0m \u001b[0mrfc_grid\u001b[0m\u001b[1;33m.\u001b[0m\u001b[0mfit\u001b[0m\u001b[1;33m(\u001b[0m\u001b[0mx_train\u001b[0m\u001b[1;33m,\u001b[0m\u001b[0my_train\u001b[0m\u001b[1;33m)\u001b[0m\u001b[1;33m\u001b[0m\u001b[1;33m\u001b[0m\u001b[0m\n\u001b[1;32m----> 6\u001b[1;33m \u001b[0my_pred\u001b[0m \u001b[1;33m=\u001b[0m \u001b[0mrfc_grid\u001b[0m\u001b[1;33m.\u001b[0m\u001b[0mpredict\u001b[0m\u001b[1;33m(\u001b[0m\u001b[0mx_text\u001b[0m\u001b[1;33m)\u001b[0m\u001b[1;33m\u001b[0m\u001b[1;33m\u001b[0m\u001b[0m\n\u001b[0m\u001b[0;32m      7\u001b[0m \u001b[0mprint\u001b[0m\u001b[1;33m(\u001b[0m\u001b[1;34mf\"accuracy for  RFC classifier is  {metrics.accuracy_score(y_pred,y_test)}\"\u001b[0m\u001b[1;33m)\u001b[0m\u001b[1;33m\u001b[0m\u001b[1;33m\u001b[0m\u001b[0m\n\u001b[0;32m      8\u001b[0m \u001b[0mcm\u001b[0m\u001b[1;33m=\u001b[0m \u001b[0mmetrics\u001b[0m\u001b[1;33m.\u001b[0m\u001b[0mconfusion_matrix\u001b[0m\u001b[1;33m(\u001b[0m\u001b[0my_test\u001b[0m\u001b[1;33m,\u001b[0m\u001b[0my_pred\u001b[0m\u001b[1;33m)\u001b[0m\u001b[1;33m\u001b[0m\u001b[1;33m\u001b[0m\u001b[0m\n",
      "\u001b[1;31mNameError\u001b[0m: name 'x_text' is not defined"
     ]
    }
   ],
   "source": [
    "from sklearn.ensemble import RandomForestClassifier\n",
    "params = {'n_estimators':np.arange(10,210,20),'max_depth':np.arange(4,15,3)}\n",
    "rfc = RandomForestClassifier()\n",
    "rfc_grid=GridSearchCV(rfc,params,n_jobs=-1, verbose=1)\n",
    "rfc_grid.fit(x_train,y_train)\n"
   ]
  },
  {
   "cell_type": "code",
   "execution_count": 79,
   "id": "6a09e3e8",
   "metadata": {},
   "outputs": [
    {
     "name": "stdout",
     "output_type": "stream",
     "text": [
      "accuracy for  RFC classifier is  0.9287410926365796\n",
      "classification report for RFC classifier is \n",
      "               precision    recall  f1-score   support\n",
      "\n",
      "           1       0.96      0.89      0.93       536\n",
      "           2       0.90      0.89      0.90       475\n",
      "           3       0.86      0.96      0.91       376\n",
      "           4       0.89      0.93      0.91       474\n",
      "           5       0.93      0.91      0.92       549\n",
      "           6       1.00      1.00      1.00       537\n",
      "\n",
      "    accuracy                           0.93      2947\n",
      "   macro avg       0.93      0.93      0.93      2947\n",
      "weighted avg       0.93      0.93      0.93      2947\n",
      "\n"
     ]
    },
    {
     "data": {
      "text/plain": [
       "{'max_depth': 13, 'n_estimators': 90}"
      ]
     },
     "execution_count": 79,
     "metadata": {},
     "output_type": "execute_result"
    },
    {
     "data": {
      "image/png": "[encoded data removed]",
      "text/plain": [
       "<Figure size 504x504 with 2 Axes>"
      ]
     },
     "metadata": {
      "needs_background": "light"
     },
     "output_type": "display_data"
    }
   ],
   "source": [
    "y_pred = rfc_grid.predict(x_test)\n",
    "print(f\"accuracy for  RFC classifier is  {metrics.accuracy_score(y_pred,y_test)}\")\n",
    "cm= metrics.confusion_matrix(y_test,y_pred)\n",
    "print(f\"classification report for RFC classifier is \\n {metrics.classification_report(y_pred,y_test)}\")\n",
    "plot_confusion_matrix(cm,labels)\n",
    "rfc_grid.best_params_"
   ]
  },
  {
   "cell_type": "markdown",
   "id": "261764cc",
   "metadata": {},
   "source": [
    "## Gradient Boosting Classifier"
   ]
  },
  {
   "cell_type": "code",
   "execution_count": null,
   "id": "9a22a2aa",
   "metadata": {},
   "outputs": [],
   "source": [
    "from sklearn.ensemble import GradientBoostingClassifier\n",
    "from sklearn.model_selection import GridSearchCV\n",
    "param_grid = {'max_depth': np.arange(5,8,1), \\\n",
    "             'n_estimators':np.arange(130,170,10)}\n",
    "gbdt = GradientBoostingClassifier()\n",
    "gbdt_grid = GridSearchCV(gbdt, param_grid=param_grid, n_jobs=-1)\n",
    "gbdt_grid.fit(x_train,y_train)\n",
    "y_pred = gbdt_grid.predict(x_test)\n",
    "\n",
    "print(f\"accuracy for  GBDT classifier is  {metrics.accuracy_score(y_pred,y_test)}\")\n",
    "cm= metrics.confusion_matrix(y_test,y_pred)\n",
    "print(f\"classification report for  GBDT classifier is \\n {metrics.classification_report(y_pred,y_test)}\")\n",
    "plot_confusion_matrix(cm,labels)\n",
    "gbdt_grid.best_params_"
   ]
  },
  {
   "cell_type": "code",
   "execution_count": null,
   "id": "04f2a5a4",
   "metadata": {},
   "outputs": [],
   "source": []
  }
 ],
 "metadata": {
  "kernelspec": {
   "display_name": "Python 3",
   "language": "python",
   "name": "python3"
  },
  "language_info": {
   "codemirror_mode": {
    "name": "ipython",
    "version": 3
   },
   "file_extension": ".py",
   "mimetype": "text/x-python",
   "name": "python",
   "nbconvert_exporter": "python",
   "pygments_lexer": "ipython3",
   "version": "3.8.8"
  }
 },
 "nbformat": 4,
 "nbformat_minor": 5
}
